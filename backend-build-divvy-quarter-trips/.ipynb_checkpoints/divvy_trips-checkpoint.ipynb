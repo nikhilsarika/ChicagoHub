{
 "cells": [
  {
   "cell_type": "code",
   "execution_count": 15,
   "metadata": {},
   "outputs": [],
   "source": [
    "##################################################################################################\n",
    "##################################################################################################\n",
    "\n",
    "\n",
    "### Last Edit by Atef Bader: 4/20/2021\n",
    "\n",
    "\n",
    "##################################################################################################"
   ]
  },
  {
   "cell_type": "markdown",
   "metadata": {},
   "source": [
    "![image.png](attachment:image.png)"
   ]
  },
  {
   "cell_type": "markdown",
   "metadata": {},
   "source": [
    "## Divvy\n",
    "\n",
    "**Divvy** is a bicycle sharing system in the City of Chicago.\n",
    "\n",
    "Click __[here](https://en.wikipedia.org/wiki/Divvy)__ to read more about **Divvy**\n",
    "\n",
    "\n",
    "Click __[here](https://www.divvybikes.com/)__ to visit the official website for **Divvy**\n"
   ]
  },
  {
   "cell_type": "markdown",
   "metadata": {},
   "source": [
    "<br>\n",
    "\n",
    "This script will populate the historical data for Divvy - 4th Quarter of 2018 trips into Postgres server under the database name **chicago_divvy_trips** and table name **divvy_trips**\n",
    "<br>\n",
    "<br>\n",
    "\n",
    "The CSV data file is collected from the following sites:\n",
    "\n",
    "- https://www.divvybikes.com/system-data\n",
    "- https://divvy-tripdata.s3.amazonaws.com/index.html\n",
    "\n",
    "<br>\n",
    "<br>"
   ]
  },
  {
   "cell_type": "markdown",
   "metadata": {},
   "source": [
    "### PostgreSQL\n",
    "\n",
    "We will collect the data from **Divvy** servers and store the data in a table on **PostgreSQL** server.\n",
    "\n",
    "This python script will send a heartbeat to Divvy every 2 minutes to retrieve the  status of the Divvy dock stations and store the data on PostgreSQL server.\n",
    "\n",
    "You need the package **psycopg2** to Connect to **PostgreSQL** server.\n",
    "\n",
    "Execute the **pip install** command from the command window to install  the package listed bove:\n",
    "- pip install psycopg2"
   ]
  },
  {
   "cell_type": "code",
   "execution_count": 16,
   "metadata": {},
   "outputs": [],
   "source": [
    "import json\n",
    "import pandas as pd\n",
    "from pandas import ExcelWriter\n",
    "from pandas import ExcelFile\n",
    "import requests\n",
    "import datetime\n",
    "import time\n",
    "import os\n",
    "import psycopg2\n",
    "import pandas as pd\n",
    "import urllib\n",
    "import json\n",
    "import csv\n",
    "from io import StringIO\n",
    "import urllib\n",
    "from pprint import pprint\n",
    "from psycopg2.extensions import ISOLATION_LEVEL_AUTOCOMMIT \n"
   ]
  },
  {
   "cell_type": "markdown",
   "metadata": {},
   "source": [
    "\n"
   ]
  },
  {
   "cell_type": "code",
   "execution_count": 17,
   "metadata": {},
   "outputs": [
    {
     "ename": "DuplicateDatabase",
     "evalue": "database \"chicago_divvy_trips\" already exists\n",
     "output_type": "error",
     "traceback": [
      "\u001b[1;31m---------------------------------------------------------------------------\u001b[0m",
      "\u001b[1;31mDuplicateDatabase\u001b[0m                         Traceback (most recent call last)",
      "\u001b[1;32m<ipython-input-17-1d157a431986>\u001b[0m in \u001b[0;36m<module>\u001b[1;34m\u001b[0m\n\u001b[0;32m     10\u001b[0m \u001b[1;31m# Only once you need to create the database\u001b[0m\u001b[1;33m\u001b[0m\u001b[1;33m\u001b[0m\u001b[1;33m\u001b[0m\u001b[0m\n\u001b[0;32m     11\u001b[0m \u001b[1;33m\u001b[0m\u001b[0m\n\u001b[1;32m---> 12\u001b[1;33m \u001b[0mcursor\u001b[0m\u001b[1;33m.\u001b[0m\u001b[0mexecute\u001b[0m\u001b[1;33m(\u001b[0m\u001b[1;34m\"CREATE DATABASE chicago_divvy_trips;\"\u001b[0m\u001b[1;33m)\u001b[0m\u001b[1;33m\u001b[0m\u001b[1;33m\u001b[0m\u001b[0m\n\u001b[0m",
      "\u001b[1;31mDuplicateDatabase\u001b[0m: database \"chicago_divvy_trips\" already exists\n"
     ]
    }
   ],
   "source": [
    "db_connection = psycopg2.connect(host='127.0.0.1',dbname=\"postgres\", user=\"postgres\" , password=\"root\")\n",
    "\n",
    "\n",
    "\n",
    "db_connection.set_isolation_level(ISOLATION_LEVEL_AUTOCOMMIT) \n",
    "\n",
    "cursor = db_connection.cursor()\n",
    "\n",
    "# comment the following line if you already created the database \n",
    "# Only once you need to create the database\n",
    "\n",
    "cursor.execute(\"CREATE DATABASE chicago_divvy_trips;\")\n"
   ]
  },
  {
   "cell_type": "code",
   "execution_count": 18,
   "metadata": {},
   "outputs": [],
   "source": [
    "db_connection = psycopg2.connect(host='127.0.0.1',dbname=\"chicago_divvy_trips\", user=\"postgres\" , password=\"root\")\n",
    "\n",
    "\n",
    "cursor = db_connection.cursor()"
   ]
  },
  {
   "cell_type": "code",
   "execution_count": 19,
   "metadata": {},
   "outputs": [],
   "source": [
    "db_connection.commit()"
   ]
  },
  {
   "cell_type": "code",
   "execution_count": 20,
   "metadata": {},
   "outputs": [],
   "source": [
    "cursor.execute(\"DROP TABLE IF EXISTS divvy_trips\")"
   ]
  },
  {
   "cell_type": "code",
   "execution_count": 21,
   "metadata": {},
   "outputs": [],
   "source": [
    "db_connection.commit()"
   ]
  },
  {
   "cell_type": "code",
   "execution_count": 22,
   "metadata": {},
   "outputs": [],
   "source": [
    "cursor.execute(\"\"\"CREATE TABLE divvy_trips(\n",
    "                \n",
    "                trip_id INTEGER,\n",
    "                start_time timestamp,\n",
    "                end_time timestamp,\n",
    "                bikeid INTEGER\n",
    "                \n",
    "               );\"\"\")"
   ]
  },
  {
   "cell_type": "code",
   "execution_count": 23,
   "metadata": {},
   "outputs": [],
   "source": [
    "db_connection.commit()"
   ]
  },
  {
   "cell_type": "code",
   "execution_count": 24,
   "metadata": {},
   "outputs": [
    {
     "data": {
      "text/html": [
       "<div>\n",
       "<style scoped>\n",
       "    .dataframe tbody tr th:only-of-type {\n",
       "        vertical-align: middle;\n",
       "    }\n",
       "\n",
       "    .dataframe tbody tr th {\n",
       "        vertical-align: top;\n",
       "    }\n",
       "\n",
       "    .dataframe thead th {\n",
       "        text-align: right;\n",
       "    }\n",
       "</style>\n",
       "<table border=\"1\" class=\"dataframe\">\n",
       "  <thead>\n",
       "    <tr style=\"text-align: right;\">\n",
       "      <th></th>\n",
       "      <th>trip_id</th>\n",
       "      <th>start_time</th>\n",
       "      <th>end_time</th>\n",
       "      <th>bikeid</th>\n",
       "      <th>tripduration</th>\n",
       "      <th>from_station_id</th>\n",
       "      <th>from_station_name</th>\n",
       "      <th>to_station_id</th>\n",
       "      <th>to_station_name</th>\n",
       "      <th>usertype</th>\n",
       "      <th>gender</th>\n",
       "      <th>birthyear</th>\n",
       "    </tr>\n",
       "  </thead>\n",
       "  <tbody>\n",
       "    <tr>\n",
       "      <th>0</th>\n",
       "      <td>20983530</td>\n",
       "      <td>2018-10-01 00:01:17</td>\n",
       "      <td>2018-10-01 00:29:35</td>\n",
       "      <td>4551</td>\n",
       "      <td>1,698.0</td>\n",
       "      <td>85</td>\n",
       "      <td>Michigan Ave &amp; Oak St</td>\n",
       "      <td>166</td>\n",
       "      <td>Ashland Ave &amp; Wrightwood Ave</td>\n",
       "      <td>Subscriber</td>\n",
       "      <td>Male</td>\n",
       "      <td>1992.0</td>\n",
       "    </tr>\n",
       "    <tr>\n",
       "      <th>1</th>\n",
       "      <td>20983531</td>\n",
       "      <td>2018-10-01 00:03:59</td>\n",
       "      <td>2018-10-01 00:10:55</td>\n",
       "      <td>847</td>\n",
       "      <td>416.0</td>\n",
       "      <td>13</td>\n",
       "      <td>Wilton Ave &amp; Diversey Pkwy</td>\n",
       "      <td>144</td>\n",
       "      <td>Larrabee St &amp; Webster Ave</td>\n",
       "      <td>Subscriber</td>\n",
       "      <td>Female</td>\n",
       "      <td>1982.0</td>\n",
       "    </tr>\n",
       "    <tr>\n",
       "      <th>2</th>\n",
       "      <td>20983532</td>\n",
       "      <td>2018-10-01 00:05:14</td>\n",
       "      <td>2018-10-01 00:14:08</td>\n",
       "      <td>6188</td>\n",
       "      <td>534.0</td>\n",
       "      <td>59</td>\n",
       "      <td>Wabash Ave &amp; Roosevelt Rd</td>\n",
       "      <td>197</td>\n",
       "      <td>Michigan Ave &amp; Madison St</td>\n",
       "      <td>Subscriber</td>\n",
       "      <td>Male</td>\n",
       "      <td>1986.0</td>\n",
       "    </tr>\n",
       "    <tr>\n",
       "      <th>3</th>\n",
       "      <td>20983533</td>\n",
       "      <td>2018-10-01 00:05:48</td>\n",
       "      <td>2018-10-01 00:18:46</td>\n",
       "      <td>6372</td>\n",
       "      <td>778.0</td>\n",
       "      <td>328</td>\n",
       "      <td>Ellis Ave &amp; 58th St</td>\n",
       "      <td>419</td>\n",
       "      <td>Lake Park Ave &amp; 53rd St</td>\n",
       "      <td>Subscriber</td>\n",
       "      <td>Female</td>\n",
       "      <td>1960.0</td>\n",
       "    </tr>\n",
       "    <tr>\n",
       "      <th>4</th>\n",
       "      <td>20983534</td>\n",
       "      <td>2018-10-01 00:07:29</td>\n",
       "      <td>2018-10-01 00:25:51</td>\n",
       "      <td>1927</td>\n",
       "      <td>1,102.0</td>\n",
       "      <td>93</td>\n",
       "      <td>Sheffield Ave &amp; Willow St</td>\n",
       "      <td>159</td>\n",
       "      <td>Claremont Ave &amp; Hirsch St</td>\n",
       "      <td>Subscriber</td>\n",
       "      <td>Female</td>\n",
       "      <td>1993.0</td>\n",
       "    </tr>\n",
       "  </tbody>\n",
       "</table>\n",
       "</div>"
      ],
      "text/plain": [
       "    trip_id           start_time             end_time  bikeid tripduration  \\\n",
       "0  20983530  2018-10-01 00:01:17  2018-10-01 00:29:35    4551      1,698.0   \n",
       "1  20983531  2018-10-01 00:03:59  2018-10-01 00:10:55     847        416.0   \n",
       "2  20983532  2018-10-01 00:05:14  2018-10-01 00:14:08    6188        534.0   \n",
       "3  20983533  2018-10-01 00:05:48  2018-10-01 00:18:46    6372        778.0   \n",
       "4  20983534  2018-10-01 00:07:29  2018-10-01 00:25:51    1927      1,102.0   \n",
       "\n",
       "   from_station_id           from_station_name  to_station_id  \\\n",
       "0               85       Michigan Ave & Oak St            166   \n",
       "1               13  Wilton Ave & Diversey Pkwy            144   \n",
       "2               59   Wabash Ave & Roosevelt Rd            197   \n",
       "3              328         Ellis Ave & 58th St            419   \n",
       "4               93   Sheffield Ave & Willow St            159   \n",
       "\n",
       "                to_station_name    usertype  gender  birthyear  \n",
       "0  Ashland Ave & Wrightwood Ave  Subscriber    Male     1992.0  \n",
       "1     Larrabee St & Webster Ave  Subscriber  Female     1982.0  \n",
       "2     Michigan Ave & Madison St  Subscriber    Male     1986.0  \n",
       "3       Lake Park Ave & 53rd St  Subscriber  Female     1960.0  \n",
       "4     Claremont Ave & Hirsch St  Subscriber  Female     1993.0  "
      ]
     },
     "execution_count": 24,
     "metadata": {},
     "output_type": "execute_result"
    }
   ],
   "source": [
    " \n",
    "data = pd.read_csv(\"Divvy_Trips_2018_Q4.csv\") \n",
    "# Preview the first 5 lines of the loaded data \n",
    "data.head()"
   ]
  },
  {
   "cell_type": "code",
   "execution_count": 25,
   "metadata": {},
   "outputs": [],
   "source": [
    "df1 = data[['trip_id', 'start_time', 'end_time','bikeid']]"
   ]
  },
  {
   "cell_type": "code",
   "execution_count": 26,
   "metadata": {},
   "outputs": [
    {
     "data": {
      "text/html": [
       "<div>\n",
       "<style scoped>\n",
       "    .dataframe tbody tr th:only-of-type {\n",
       "        vertical-align: middle;\n",
       "    }\n",
       "\n",
       "    .dataframe tbody tr th {\n",
       "        vertical-align: top;\n",
       "    }\n",
       "\n",
       "    .dataframe thead th {\n",
       "        text-align: right;\n",
       "    }\n",
       "</style>\n",
       "<table border=\"1\" class=\"dataframe\">\n",
       "  <thead>\n",
       "    <tr style=\"text-align: right;\">\n",
       "      <th></th>\n",
       "      <th>trip_id</th>\n",
       "      <th>start_time</th>\n",
       "      <th>end_time</th>\n",
       "      <th>bikeid</th>\n",
       "    </tr>\n",
       "  </thead>\n",
       "  <tbody>\n",
       "    <tr>\n",
       "      <th>0</th>\n",
       "      <td>20983530</td>\n",
       "      <td>2018-10-01 00:01:17</td>\n",
       "      <td>2018-10-01 00:29:35</td>\n",
       "      <td>4551</td>\n",
       "    </tr>\n",
       "    <tr>\n",
       "      <th>1</th>\n",
       "      <td>20983531</td>\n",
       "      <td>2018-10-01 00:03:59</td>\n",
       "      <td>2018-10-01 00:10:55</td>\n",
       "      <td>847</td>\n",
       "    </tr>\n",
       "    <tr>\n",
       "      <th>2</th>\n",
       "      <td>20983532</td>\n",
       "      <td>2018-10-01 00:05:14</td>\n",
       "      <td>2018-10-01 00:14:08</td>\n",
       "      <td>6188</td>\n",
       "    </tr>\n",
       "    <tr>\n",
       "      <th>3</th>\n",
       "      <td>20983533</td>\n",
       "      <td>2018-10-01 00:05:48</td>\n",
       "      <td>2018-10-01 00:18:46</td>\n",
       "      <td>6372</td>\n",
       "    </tr>\n",
       "    <tr>\n",
       "      <th>4</th>\n",
       "      <td>20983534</td>\n",
       "      <td>2018-10-01 00:07:29</td>\n",
       "      <td>2018-10-01 00:25:51</td>\n",
       "      <td>1927</td>\n",
       "    </tr>\n",
       "  </tbody>\n",
       "</table>\n",
       "</div>"
      ],
      "text/plain": [
       "    trip_id           start_time             end_time  bikeid\n",
       "0  20983530  2018-10-01 00:01:17  2018-10-01 00:29:35    4551\n",
       "1  20983531  2018-10-01 00:03:59  2018-10-01 00:10:55     847\n",
       "2  20983532  2018-10-01 00:05:14  2018-10-01 00:14:08    6188\n",
       "3  20983533  2018-10-01 00:05:48  2018-10-01 00:18:46    6372\n",
       "4  20983534  2018-10-01 00:07:29  2018-10-01 00:25:51    1927"
      ]
     },
     "execution_count": 26,
     "metadata": {},
     "output_type": "execute_result"
    }
   ],
   "source": [
    "df1.head()"
   ]
  },
  {
   "cell_type": "code",
   "execution_count": 27,
   "metadata": {},
   "outputs": [],
   "source": [
    "sio = StringIO()\n",
    "sio.write(df1.to_csv(index=None, header=None))  # Write the Pandas DataFrame as a csv to the buffer\n",
    "sio.seek(0)  # Be sure to reset the position to the start of the stream\n",
    "\n",
    "# Copy the string buffer to the database, as if it were an actual file\n",
    "with db_connection.cursor() as c:\n",
    "    c.copy_from(sio, \"divvy_trips\", columns=df1.columns, sep=',')\n",
    "    db_connection.commit()"
   ]
  },
  {
   "cell_type": "code",
   "execution_count": 28,
   "metadata": {},
   "outputs": [],
   "source": [
    "db_connection.close()"
   ]
  }
 ],
 "metadata": {
  "kernelspec": {
   "display_name": "Python 3",
   "language": "python",
   "name": "python3"
  },
  "language_info": {
   "codemirror_mode": {
    "name": "ipython",
    "version": 3
   },
   "file_extension": ".py",
   "mimetype": "text/x-python",
   "name": "python",
   "nbconvert_exporter": "python",
   "pygments_lexer": "ipython3",
   "version": "3.7.7"
  }
 },
 "nbformat": 4,
 "nbformat_minor": 2
}
